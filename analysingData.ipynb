{
 "cells": [
  {
   "cell_type": "code",
   "execution_count": 2,
   "metadata": {},
   "outputs": [],
   "source": [
    "import numpy as np\n",
    "import pandas as pd"
   ]
  },
  {
   "cell_type": "code",
   "execution_count": 3,
   "metadata": {},
   "outputs": [],
   "source": [
    "data_client_1 = pd.read_csv(\"./data/data/node01/data.csv\", index_col=0)\n",
    "data_client_2 = pd.read_csv(\"./data/data/node02/data.csv\", index_col=0)\n",
    "data_client_3 = pd.read_csv(\"./data/data/node03/data.csv\", index_col=0)\n",
    "data_client_4 = pd.read_csv(\"./data/data/node04/data.csv\", index_col=0)\n",
    "data_client_5 = pd.read_csv(\"./data/data/node05/data.csv\", index_col=0)"
   ]
  },
  {
   "cell_type": "code",
   "execution_count": 4,
   "metadata": {},
   "outputs": [
    {
     "data": {
      "text/html": [
       "<div>\n",
       "<style scoped>\n",
       "    .dataframe tbody tr th:only-of-type {\n",
       "        vertical-align: middle;\n",
       "    }\n",
       "\n",
       "    .dataframe tbody tr th {\n",
       "        vertical-align: top;\n",
       "    }\n",
       "\n",
       "    .dataframe thead th {\n",
       "        text-align: right;\n",
       "    }\n",
       "</style>\n",
       "<table border=\"1\" class=\"dataframe\">\n",
       "  <thead>\n",
       "    <tr style=\"text-align: right;\">\n",
       "      <th></th>\n",
       "      <th>0</th>\n",
       "      <th>1</th>\n",
       "      <th>2</th>\n",
       "      <th>3</th>\n",
       "      <th>4</th>\n",
       "      <th>5</th>\n",
       "      <th>6</th>\n",
       "      <th>7</th>\n",
       "      <th>8</th>\n",
       "      <th>9</th>\n",
       "      <th>...</th>\n",
       "      <th>503</th>\n",
       "      <th>504</th>\n",
       "      <th>505</th>\n",
       "      <th>506</th>\n",
       "      <th>507</th>\n",
       "      <th>508</th>\n",
       "      <th>509</th>\n",
       "      <th>510</th>\n",
       "      <th>511</th>\n",
       "      <th>512</th>\n",
       "    </tr>\n",
       "  </thead>\n",
       "  <tbody>\n",
       "    <tr>\n",
       "      <th>0</th>\n",
       "      <td>-72</td>\n",
       "      <td>-64</td>\n",
       "      <td>-60</td>\n",
       "      <td>-58</td>\n",
       "      <td>-57</td>\n",
       "      <td>-57</td>\n",
       "      <td>-58</td>\n",
       "      <td>-58</td>\n",
       "      <td>-57</td>\n",
       "      <td>-57</td>\n",
       "      <td>...</td>\n",
       "      <td>-112</td>\n",
       "      <td>-112</td>\n",
       "      <td>-113</td>\n",
       "      <td>-115</td>\n",
       "      <td>-117</td>\n",
       "      <td>-117</td>\n",
       "      <td>-116</td>\n",
       "      <td>-114</td>\n",
       "      <td>-113</td>\n",
       "      <td>2</td>\n",
       "    </tr>\n",
       "    <tr>\n",
       "      <th>1</th>\n",
       "      <td>-79</td>\n",
       "      <td>-68</td>\n",
       "      <td>-62</td>\n",
       "      <td>-59</td>\n",
       "      <td>-58</td>\n",
       "      <td>-58</td>\n",
       "      <td>-58</td>\n",
       "      <td>-58</td>\n",
       "      <td>-57</td>\n",
       "      <td>-57</td>\n",
       "      <td>...</td>\n",
       "      <td>-102</td>\n",
       "      <td>-96</td>\n",
       "      <td>-91</td>\n",
       "      <td>-86</td>\n",
       "      <td>-83</td>\n",
       "      <td>-81</td>\n",
       "      <td>-81</td>\n",
       "      <td>-82</td>\n",
       "      <td>-85</td>\n",
       "      <td>2</td>\n",
       "    </tr>\n",
       "    <tr>\n",
       "      <th>2</th>\n",
       "      <td>-74</td>\n",
       "      <td>-65</td>\n",
       "      <td>-61</td>\n",
       "      <td>-58</td>\n",
       "      <td>-57</td>\n",
       "      <td>-57</td>\n",
       "      <td>-57</td>\n",
       "      <td>-57</td>\n",
       "      <td>-57</td>\n",
       "      <td>-57</td>\n",
       "      <td>...</td>\n",
       "      <td>-28</td>\n",
       "      <td>-29</td>\n",
       "      <td>-31</td>\n",
       "      <td>-35</td>\n",
       "      <td>-39</td>\n",
       "      <td>-45</td>\n",
       "      <td>-50</td>\n",
       "      <td>-52</td>\n",
       "      <td>-52</td>\n",
       "      <td>7</td>\n",
       "    </tr>\n",
       "    <tr>\n",
       "      <th>3</th>\n",
       "      <td>-73</td>\n",
       "      <td>-64</td>\n",
       "      <td>-60</td>\n",
       "      <td>-58</td>\n",
       "      <td>-57</td>\n",
       "      <td>-57</td>\n",
       "      <td>-57</td>\n",
       "      <td>-57</td>\n",
       "      <td>-57</td>\n",
       "      <td>-57</td>\n",
       "      <td>...</td>\n",
       "      <td>-119</td>\n",
       "      <td>-117</td>\n",
       "      <td>-115</td>\n",
       "      <td>-111</td>\n",
       "      <td>-108</td>\n",
       "      <td>-104</td>\n",
       "      <td>-102</td>\n",
       "      <td>-99</td>\n",
       "      <td>-98</td>\n",
       "      <td>3</td>\n",
       "    </tr>\n",
       "    <tr>\n",
       "      <th>4</th>\n",
       "      <td>-72</td>\n",
       "      <td>-63</td>\n",
       "      <td>-60</td>\n",
       "      <td>-58</td>\n",
       "      <td>-57</td>\n",
       "      <td>-57</td>\n",
       "      <td>-57</td>\n",
       "      <td>-58</td>\n",
       "      <td>-57</td>\n",
       "      <td>-57</td>\n",
       "      <td>...</td>\n",
       "      <td>-99</td>\n",
       "      <td>-107</td>\n",
       "      <td>-115</td>\n",
       "      <td>-119</td>\n",
       "      <td>-120</td>\n",
       "      <td>-118</td>\n",
       "      <td>-118</td>\n",
       "      <td>-118</td>\n",
       "      <td>-119</td>\n",
       "      <td>2</td>\n",
       "    </tr>\n",
       "  </tbody>\n",
       "</table>\n",
       "<p>5 rows × 513 columns</p>\n",
       "</div>"
      ],
      "text/plain": [
       "    0   1   2   3   4   5   6   7   8   9  ...  503  504  505  506  507  508  \\\n",
       "0 -72 -64 -60 -58 -57 -57 -58 -58 -57 -57  ... -112 -112 -113 -115 -117 -117   \n",
       "1 -79 -68 -62 -59 -58 -58 -58 -58 -57 -57  ... -102  -96  -91  -86  -83  -81   \n",
       "2 -74 -65 -61 -58 -57 -57 -57 -57 -57 -57  ...  -28  -29  -31  -35  -39  -45   \n",
       "3 -73 -64 -60 -58 -57 -57 -57 -57 -57 -57  ... -119 -117 -115 -111 -108 -104   \n",
       "4 -72 -63 -60 -58 -57 -57 -57 -58 -57 -57  ...  -99 -107 -115 -119 -120 -118   \n",
       "\n",
       "   509  510  511  512  \n",
       "0 -116 -114 -113    2  \n",
       "1  -81  -82  -85    2  \n",
       "2  -50  -52  -52    7  \n",
       "3 -102  -99  -98    3  \n",
       "4 -118 -118 -119    2  \n",
       "\n",
       "[5 rows x 513 columns]"
      ]
     },
     "execution_count": 4,
     "metadata": {},
     "output_type": "execute_result"
    }
   ],
   "source": [
    "data_client_1.head()"
   ]
  },
  {
   "cell_type": "code",
   "execution_count": 5,
   "metadata": {},
   "outputs": [
    {
     "data": {
      "text/html": [
       "<div>\n",
       "<style scoped>\n",
       "    .dataframe tbody tr th:only-of-type {\n",
       "        vertical-align: middle;\n",
       "    }\n",
       "\n",
       "    .dataframe tbody tr th {\n",
       "        vertical-align: top;\n",
       "    }\n",
       "\n",
       "    .dataframe thead th {\n",
       "        text-align: right;\n",
       "    }\n",
       "</style>\n",
       "<table border=\"1\" class=\"dataframe\">\n",
       "  <thead>\n",
       "    <tr style=\"text-align: right;\">\n",
       "      <th></th>\n",
       "      <th>0</th>\n",
       "      <th>1</th>\n",
       "      <th>2</th>\n",
       "      <th>3</th>\n",
       "      <th>4</th>\n",
       "      <th>5</th>\n",
       "      <th>6</th>\n",
       "      <th>7</th>\n",
       "      <th>8</th>\n",
       "      <th>9</th>\n",
       "      <th>...</th>\n",
       "      <th>503</th>\n",
       "      <th>504</th>\n",
       "      <th>505</th>\n",
       "      <th>506</th>\n",
       "      <th>507</th>\n",
       "      <th>508</th>\n",
       "      <th>509</th>\n",
       "      <th>510</th>\n",
       "      <th>511</th>\n",
       "      <th>512</th>\n",
       "    </tr>\n",
       "  </thead>\n",
       "  <tbody>\n",
       "    <tr>\n",
       "      <th>0</th>\n",
       "      <td>-72</td>\n",
       "      <td>-64</td>\n",
       "      <td>-60</td>\n",
       "      <td>-58</td>\n",
       "      <td>-57</td>\n",
       "      <td>-57</td>\n",
       "      <td>-58</td>\n",
       "      <td>-58</td>\n",
       "      <td>-57</td>\n",
       "      <td>-57</td>\n",
       "      <td>...</td>\n",
       "      <td>-112</td>\n",
       "      <td>-112</td>\n",
       "      <td>-113</td>\n",
       "      <td>-115</td>\n",
       "      <td>-117</td>\n",
       "      <td>-117</td>\n",
       "      <td>-116</td>\n",
       "      <td>-114</td>\n",
       "      <td>-113</td>\n",
       "      <td>2</td>\n",
       "    </tr>\n",
       "    <tr>\n",
       "      <th>1</th>\n",
       "      <td>-79</td>\n",
       "      <td>-68</td>\n",
       "      <td>-62</td>\n",
       "      <td>-59</td>\n",
       "      <td>-58</td>\n",
       "      <td>-58</td>\n",
       "      <td>-58</td>\n",
       "      <td>-58</td>\n",
       "      <td>-57</td>\n",
       "      <td>-57</td>\n",
       "      <td>...</td>\n",
       "      <td>-102</td>\n",
       "      <td>-96</td>\n",
       "      <td>-91</td>\n",
       "      <td>-86</td>\n",
       "      <td>-83</td>\n",
       "      <td>-81</td>\n",
       "      <td>-81</td>\n",
       "      <td>-82</td>\n",
       "      <td>-85</td>\n",
       "      <td>2</td>\n",
       "    </tr>\n",
       "    <tr>\n",
       "      <th>2</th>\n",
       "      <td>-74</td>\n",
       "      <td>-65</td>\n",
       "      <td>-61</td>\n",
       "      <td>-58</td>\n",
       "      <td>-57</td>\n",
       "      <td>-57</td>\n",
       "      <td>-57</td>\n",
       "      <td>-57</td>\n",
       "      <td>-57</td>\n",
       "      <td>-57</td>\n",
       "      <td>...</td>\n",
       "      <td>-28</td>\n",
       "      <td>-29</td>\n",
       "      <td>-31</td>\n",
       "      <td>-35</td>\n",
       "      <td>-39</td>\n",
       "      <td>-45</td>\n",
       "      <td>-50</td>\n",
       "      <td>-52</td>\n",
       "      <td>-52</td>\n",
       "      <td>7</td>\n",
       "    </tr>\n",
       "    <tr>\n",
       "      <th>3</th>\n",
       "      <td>-73</td>\n",
       "      <td>-64</td>\n",
       "      <td>-60</td>\n",
       "      <td>-58</td>\n",
       "      <td>-57</td>\n",
       "      <td>-57</td>\n",
       "      <td>-57</td>\n",
       "      <td>-57</td>\n",
       "      <td>-57</td>\n",
       "      <td>-57</td>\n",
       "      <td>...</td>\n",
       "      <td>-119</td>\n",
       "      <td>-117</td>\n",
       "      <td>-115</td>\n",
       "      <td>-111</td>\n",
       "      <td>-108</td>\n",
       "      <td>-104</td>\n",
       "      <td>-102</td>\n",
       "      <td>-99</td>\n",
       "      <td>-98</td>\n",
       "      <td>3</td>\n",
       "    </tr>\n",
       "    <tr>\n",
       "      <th>4</th>\n",
       "      <td>-72</td>\n",
       "      <td>-63</td>\n",
       "      <td>-60</td>\n",
       "      <td>-58</td>\n",
       "      <td>-57</td>\n",
       "      <td>-57</td>\n",
       "      <td>-57</td>\n",
       "      <td>-58</td>\n",
       "      <td>-57</td>\n",
       "      <td>-57</td>\n",
       "      <td>...</td>\n",
       "      <td>-99</td>\n",
       "      <td>-107</td>\n",
       "      <td>-115</td>\n",
       "      <td>-119</td>\n",
       "      <td>-120</td>\n",
       "      <td>-118</td>\n",
       "      <td>-118</td>\n",
       "      <td>-118</td>\n",
       "      <td>-119</td>\n",
       "      <td>2</td>\n",
       "    </tr>\n",
       "  </tbody>\n",
       "</table>\n",
       "<p>5 rows × 513 columns</p>\n",
       "</div>"
      ],
      "text/plain": [
       "    0   1   2   3   4   5   6   7   8   9  ...  503  504  505  506  507  508  \\\n",
       "0 -72 -64 -60 -58 -57 -57 -58 -58 -57 -57  ... -112 -112 -113 -115 -117 -117   \n",
       "1 -79 -68 -62 -59 -58 -58 -58 -58 -57 -57  ... -102  -96  -91  -86  -83  -81   \n",
       "2 -74 -65 -61 -58 -57 -57 -57 -57 -57 -57  ...  -28  -29  -31  -35  -39  -45   \n",
       "3 -73 -64 -60 -58 -57 -57 -57 -57 -57 -57  ... -119 -117 -115 -111 -108 -104   \n",
       "4 -72 -63 -60 -58 -57 -57 -57 -58 -57 -57  ...  -99 -107 -115 -119 -120 -118   \n",
       "\n",
       "   509  510  511  512  \n",
       "0 -116 -114 -113    2  \n",
       "1  -81  -82  -85    2  \n",
       "2  -50  -52  -52    7  \n",
       "3 -102  -99  -98    3  \n",
       "4 -118 -118 -119    2  \n",
       "\n",
       "[5 rows x 513 columns]"
      ]
     },
     "execution_count": 5,
     "metadata": {},
     "output_type": "execute_result"
    }
   ],
   "source": [
    "data_client_2.head()"
   ]
  },
  {
   "cell_type": "code",
   "execution_count": 6,
   "metadata": {},
   "outputs": [
    {
     "data": {
      "text/html": [
       "<div>\n",
       "<style scoped>\n",
       "    .dataframe tbody tr th:only-of-type {\n",
       "        vertical-align: middle;\n",
       "    }\n",
       "\n",
       "    .dataframe tbody tr th {\n",
       "        vertical-align: top;\n",
       "    }\n",
       "\n",
       "    .dataframe thead th {\n",
       "        text-align: right;\n",
       "    }\n",
       "</style>\n",
       "<table border=\"1\" class=\"dataframe\">\n",
       "  <thead>\n",
       "    <tr style=\"text-align: right;\">\n",
       "      <th></th>\n",
       "      <th>0</th>\n",
       "      <th>1</th>\n",
       "      <th>2</th>\n",
       "      <th>3</th>\n",
       "      <th>4</th>\n",
       "      <th>5</th>\n",
       "      <th>6</th>\n",
       "      <th>7</th>\n",
       "      <th>8</th>\n",
       "      <th>9</th>\n",
       "      <th>...</th>\n",
       "      <th>503</th>\n",
       "      <th>504</th>\n",
       "      <th>505</th>\n",
       "      <th>506</th>\n",
       "      <th>507</th>\n",
       "      <th>508</th>\n",
       "      <th>509</th>\n",
       "      <th>510</th>\n",
       "      <th>511</th>\n",
       "      <th>512</th>\n",
       "    </tr>\n",
       "  </thead>\n",
       "  <tbody>\n",
       "    <tr>\n",
       "      <th>0</th>\n",
       "      <td>-74</td>\n",
       "      <td>-64</td>\n",
       "      <td>-61</td>\n",
       "      <td>-58</td>\n",
       "      <td>-57</td>\n",
       "      <td>-57</td>\n",
       "      <td>-57</td>\n",
       "      <td>-57</td>\n",
       "      <td>-57</td>\n",
       "      <td>-57</td>\n",
       "      <td>...</td>\n",
       "      <td>-61</td>\n",
       "      <td>-57</td>\n",
       "      <td>-51</td>\n",
       "      <td>-46</td>\n",
       "      <td>-42</td>\n",
       "      <td>-39</td>\n",
       "      <td>-37</td>\n",
       "      <td>-36</td>\n",
       "      <td>-36</td>\n",
       "      <td>7</td>\n",
       "    </tr>\n",
       "    <tr>\n",
       "      <th>1</th>\n",
       "      <td>-77</td>\n",
       "      <td>-67</td>\n",
       "      <td>-62</td>\n",
       "      <td>-59</td>\n",
       "      <td>-58</td>\n",
       "      <td>-58</td>\n",
       "      <td>-58</td>\n",
       "      <td>-58</td>\n",
       "      <td>-57</td>\n",
       "      <td>-57</td>\n",
       "      <td>...</td>\n",
       "      <td>-58</td>\n",
       "      <td>-57</td>\n",
       "      <td>-58</td>\n",
       "      <td>-60</td>\n",
       "      <td>-64</td>\n",
       "      <td>-69</td>\n",
       "      <td>-75</td>\n",
       "      <td>-82</td>\n",
       "      <td>-90</td>\n",
       "      <td>0</td>\n",
       "    </tr>\n",
       "    <tr>\n",
       "      <th>2</th>\n",
       "      <td>-73</td>\n",
       "      <td>-64</td>\n",
       "      <td>-61</td>\n",
       "      <td>-58</td>\n",
       "      <td>-57</td>\n",
       "      <td>-57</td>\n",
       "      <td>-57</td>\n",
       "      <td>-57</td>\n",
       "      <td>-57</td>\n",
       "      <td>-57</td>\n",
       "      <td>...</td>\n",
       "      <td>-109</td>\n",
       "      <td>-108</td>\n",
       "      <td>-108</td>\n",
       "      <td>-109</td>\n",
       "      <td>-110</td>\n",
       "      <td>-110</td>\n",
       "      <td>-110</td>\n",
       "      <td>-110</td>\n",
       "      <td>-110</td>\n",
       "      <td>4</td>\n",
       "    </tr>\n",
       "    <tr>\n",
       "      <th>3</th>\n",
       "      <td>-74</td>\n",
       "      <td>-65</td>\n",
       "      <td>-61</td>\n",
       "      <td>-58</td>\n",
       "      <td>-57</td>\n",
       "      <td>-57</td>\n",
       "      <td>-57</td>\n",
       "      <td>-57</td>\n",
       "      <td>-57</td>\n",
       "      <td>-57</td>\n",
       "      <td>...</td>\n",
       "      <td>-107</td>\n",
       "      <td>-108</td>\n",
       "      <td>-110</td>\n",
       "      <td>-112</td>\n",
       "      <td>-113</td>\n",
       "      <td>-114</td>\n",
       "      <td>-115</td>\n",
       "      <td>-116</td>\n",
       "      <td>-118</td>\n",
       "      <td>5</td>\n",
       "    </tr>\n",
       "    <tr>\n",
       "      <th>4</th>\n",
       "      <td>-74</td>\n",
       "      <td>-65</td>\n",
       "      <td>-61</td>\n",
       "      <td>-58</td>\n",
       "      <td>-57</td>\n",
       "      <td>-57</td>\n",
       "      <td>-57</td>\n",
       "      <td>-57</td>\n",
       "      <td>-57</td>\n",
       "      <td>-57</td>\n",
       "      <td>...</td>\n",
       "      <td>-111</td>\n",
       "      <td>-111</td>\n",
       "      <td>-112</td>\n",
       "      <td>-113</td>\n",
       "      <td>-115</td>\n",
       "      <td>-116</td>\n",
       "      <td>-118</td>\n",
       "      <td>-120</td>\n",
       "      <td>-122</td>\n",
       "      <td>6</td>\n",
       "    </tr>\n",
       "  </tbody>\n",
       "</table>\n",
       "<p>5 rows × 513 columns</p>\n",
       "</div>"
      ],
      "text/plain": [
       "    0   1   2   3   4   5   6   7   8   9  ...  503  504  505  506  507  508  \\\n",
       "0 -74 -64 -61 -58 -57 -57 -57 -57 -57 -57  ...  -61  -57  -51  -46  -42  -39   \n",
       "1 -77 -67 -62 -59 -58 -58 -58 -58 -57 -57  ...  -58  -57  -58  -60  -64  -69   \n",
       "2 -73 -64 -61 -58 -57 -57 -57 -57 -57 -57  ... -109 -108 -108 -109 -110 -110   \n",
       "3 -74 -65 -61 -58 -57 -57 -57 -57 -57 -57  ... -107 -108 -110 -112 -113 -114   \n",
       "4 -74 -65 -61 -58 -57 -57 -57 -57 -57 -57  ... -111 -111 -112 -113 -115 -116   \n",
       "\n",
       "   509  510  511  512  \n",
       "0  -37  -36  -36    7  \n",
       "1  -75  -82  -90    0  \n",
       "2 -110 -110 -110    4  \n",
       "3 -115 -116 -118    5  \n",
       "4 -118 -120 -122    6  \n",
       "\n",
       "[5 rows x 513 columns]"
      ]
     },
     "execution_count": 6,
     "metadata": {},
     "output_type": "execute_result"
    }
   ],
   "source": [
    "data_client_3.head()"
   ]
  },
  {
   "cell_type": "code",
   "execution_count": 3,
   "metadata": {},
   "outputs": [
    {
     "data": {
      "text/plain": [
       "(3200, 513)"
      ]
     },
     "execution_count": 3,
     "metadata": {},
     "output_type": "execute_result"
    }
   ],
   "source": [
    "data_client_1.shape"
   ]
  },
  {
   "cell_type": "code",
   "execution_count": 4,
   "metadata": {},
   "outputs": [
    {
     "data": {
      "text/plain": [
       "0      0\n",
       "1      0\n",
       "2      0\n",
       "3      0\n",
       "4      0\n",
       "      ..\n",
       "508    0\n",
       "509    0\n",
       "510    0\n",
       "511    0\n",
       "512    0\n",
       "Length: 513, dtype: int64"
      ]
     },
     "execution_count": 4,
     "metadata": {},
     "output_type": "execute_result"
    }
   ],
   "source": [
    "data_client_1.isna().sum()"
   ]
  },
  {
   "cell_type": "code",
   "execution_count": 5,
   "metadata": {},
   "outputs": [
    {
     "data": {
      "text/plain": [
       "0      0\n",
       "1      0\n",
       "2      0\n",
       "3      0\n",
       "4      0\n",
       "      ..\n",
       "508    0\n",
       "509    0\n",
       "510    0\n",
       "511    0\n",
       "512    0\n",
       "Length: 513, dtype: int64"
      ]
     },
     "execution_count": 5,
     "metadata": {},
     "output_type": "execute_result"
    }
   ],
   "source": [
    "data_client_2.isna().sum()"
   ]
  },
  {
   "cell_type": "code",
   "execution_count": 6,
   "metadata": {},
   "outputs": [
    {
     "data": {
      "text/plain": [
       "0      0\n",
       "1      0\n",
       "2      0\n",
       "3      0\n",
       "4      0\n",
       "      ..\n",
       "508    0\n",
       "509    0\n",
       "510    0\n",
       "511    0\n",
       "512    0\n",
       "Length: 513, dtype: int64"
      ]
     },
     "execution_count": 6,
     "metadata": {},
     "output_type": "execute_result"
    }
   ],
   "source": [
    "data_client_3.isna().sum()"
   ]
  },
  {
   "cell_type": "code",
   "execution_count": 7,
   "metadata": {},
   "outputs": [
    {
     "data": {
      "text/plain": [
       "0      0\n",
       "1      0\n",
       "2      0\n",
       "3      0\n",
       "4      0\n",
       "      ..\n",
       "508    0\n",
       "509    0\n",
       "510    0\n",
       "511    0\n",
       "512    0\n",
       "Length: 513, dtype: int64"
      ]
     },
     "execution_count": 7,
     "metadata": {},
     "output_type": "execute_result"
    }
   ],
   "source": [
    "data_client_4.isna().sum()"
   ]
  },
  {
   "cell_type": "code",
   "execution_count": 8,
   "metadata": {},
   "outputs": [
    {
     "data": {
      "text/plain": [
       "0      0\n",
       "1      0\n",
       "2      0\n",
       "3      0\n",
       "4      0\n",
       "      ..\n",
       "508    0\n",
       "509    0\n",
       "510    0\n",
       "511    0\n",
       "512    0\n",
       "Length: 513, dtype: int64"
      ]
     },
     "execution_count": 8,
     "metadata": {},
     "output_type": "execute_result"
    }
   ],
   "source": [
    "data_client_5.isna().sum()"
   ]
  },
  {
   "cell_type": "code",
   "execution_count": 9,
   "metadata": {},
   "outputs": [
    {
     "data": {
      "text/plain": [
       "5    431\n",
       "3    410\n",
       "4    404\n",
       "0    402\n",
       "1    392\n",
       "2    391\n",
       "7    391\n",
       "6    379\n",
       "Name: 512, dtype: int64"
      ]
     },
     "execution_count": 9,
     "metadata": {},
     "output_type": "execute_result"
    }
   ],
   "source": [
    "data_client_1[data_client_1.columns[-1]].value_counts()"
   ]
  },
  {
   "cell_type": "code",
   "execution_count": 10,
   "metadata": {},
   "outputs": [],
   "source": [
    "x_client_1 = data_client_1[data_client_1.columns[0:512]]\n",
    "y_client_1 = data_client_1[data_client_1.columns[-1]]\n",
    "\n",
    "x_client_2 = data_client_2[data_client_2.columns[0:512]]\n",
    "y_client_2 = data_client_2[data_client_2.columns[-1]]\n",
    "\n",
    "x_client_3 = data_client_3[data_client_3.columns[0:512]]\n",
    "y_client_3 = data_client_3[data_client_3.columns[-1]]\n",
    "\n",
    "x_client_4 = data_client_4[data_client_4.columns[0:512]]\n",
    "y_client_4 = data_client_4[data_client_4.columns[-1]]\n",
    "\n",
    "x_client_5 = data_client_5[data_client_5.columns[0:512]]\n",
    "y_client_5 = data_client_5[data_client_5.columns[-1]]"
   ]
  },
  {
   "cell_type": "code",
   "execution_count": 11,
   "metadata": {},
   "outputs": [
    {
     "name": "stdout",
     "output_type": "stream",
     "text": [
      "(3200, 512)\n",
      "(3200,)\n"
     ]
    }
   ],
   "source": [
    "print(x_client_1.shape)\n",
    "print(y_client_1.shape)"
   ]
  },
  {
   "cell_type": "code",
   "execution_count": 12,
   "metadata": {},
   "outputs": [],
   "source": [
    "import scipy.io as sio\n",
    "def getTestDataset():\n",
    "    database = sio.loadmat('./testData/data_base_all_sequences_random.mat')\n",
    "\n",
    "    x = database['Data_test_2']\n",
    "    y = database['label_test_2']\n",
    "\n",
    "    return x, y"
   ]
  },
  {
   "cell_type": "code",
   "execution_count": 13,
   "metadata": {},
   "outputs": [],
   "source": [
    "x_test, y_test = getTestDataset()"
   ]
  },
  {
   "cell_type": "code",
   "execution_count": 14,
   "metadata": {},
   "outputs": [
    {
     "name": "stdout",
     "output_type": "stream",
     "text": [
      "(16000, 512)\n",
      "(16000, 1)\n"
     ]
    }
   ],
   "source": [
    "print(x_test.shape)\n",
    "print(y_test.shape)"
   ]
  },
  {
   "cell_type": "code",
   "execution_count": 15,
   "metadata": {},
   "outputs": [
    {
     "name": "stdout",
     "output_type": "stream",
     "text": [
      "(16000,)\n"
     ]
    }
   ],
   "source": [
    "y_test = np.reshape(y_test, (y_test.shape[0],))\n",
    "print(y_test.shape)"
   ]
  },
  {
   "cell_type": "code",
   "execution_count": 16,
   "metadata": {},
   "outputs": [],
   "source": [
    "from sklearn.preprocessing import MinMaxScaler\n",
    "\n",
    "scaler = MinMaxScaler()\n",
    "scaler_model = scaler.fit(x_client_1)"
   ]
  },
  {
   "cell_type": "code",
   "execution_count": 17,
   "metadata": {},
   "outputs": [
    {
     "name": "stderr",
     "output_type": "stream",
     "text": [
      "c:\\Users\\sshob\\Desktop\\C&S\\code\\CodeBase\\lib\\site-packages\\sklearn\\base.py:451: UserWarning: X does not have valid feature names, but MinMaxScaler was fitted with feature names\n",
      "  \"X does not have valid feature names, but\"\n"
     ]
    },
    {
     "data": {
      "text/plain": [
       "(3200, 512)"
      ]
     },
     "execution_count": 17,
     "metadata": {},
     "output_type": "execute_result"
    }
   ],
   "source": [
    "x_client_1_scaled = scaler_model.transform(x_client_1)\n",
    "x_client_2_scaled = scaler_model.transform(x_client_2)\n",
    "x_client_3_scaled = scaler_model.transform(x_client_3)\n",
    "x_client_4_scaled = scaler_model.transform(x_client_4)\n",
    "x_client_5_scaled = scaler_model.transform(x_client_5)\n",
    "x_test_scaled = scaler_model.transform(x_test)"
   ]
  },
  {
   "cell_type": "code",
   "execution_count": 19,
   "metadata": {},
   "outputs": [
    {
     "name": "stdout",
     "output_type": "stream",
     "text": [
      "(3200, 512)\n",
      "(16000, 512)\n"
     ]
    }
   ],
   "source": [
    "print(x_client_1_scaled.shape)\n",
    "print(x_test_scaled.shape)"
   ]
  },
  {
   "cell_type": "code",
   "execution_count": null,
   "metadata": {},
   "outputs": [],
   "source": []
  }
 ],
 "metadata": {
  "kernelspec": {
   "display_name": "Python 3.7.6 ('CodeBase': venv)",
   "language": "python",
   "name": "python3"
  },
  "language_info": {
   "codemirror_mode": {
    "name": "ipython",
    "version": 3
   },
   "file_extension": ".py",
   "mimetype": "text/x-python",
   "name": "python",
   "nbconvert_exporter": "python",
   "pygments_lexer": "ipython3",
   "version": "3.7.6"
  },
  "orig_nbformat": 4,
  "vscode": {
   "interpreter": {
    "hash": "6d3b34131a67879cedea56a3ea63000443847b02ff6f7fb4cc64bc66e850672f"
   }
  }
 },
 "nbformat": 4,
 "nbformat_minor": 2
}
