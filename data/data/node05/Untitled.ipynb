{
 "cells": [
  {
   "cell_type": "code",
   "execution_count": 2,
   "id": "85b8942d",
   "metadata": {},
   "outputs": [],
   "source": [
    "import numpy as np\n",
    "import pandas as pd\n",
    "import os\n",
    "import json"
   ]
  },
  {
   "cell_type": "code",
   "execution_count": 5,
   "id": "c229e7d5",
   "metadata": {},
   "outputs": [],
   "source": [
    "import warnings  \n",
    "with warnings.catch_warnings():  \n",
    "    warnings.filterwarnings(\"ignore\",category=FutureWarning)\n",
    "    import tensorflow as tf  \n",
    "    #import tensorflow.keras.models   \n",
    "    from tensorflow.keras.models import load_model\n",
    "    from tensorflow.keras.models import Sequential\n",
    "    from tensorflow.keras.layers import Activation, Dense\n",
    "    from tensorflow.keras import backend as K"
   ]
  },
  {
   "cell_type": "code",
   "execution_count": 3,
   "id": "b7ab425c",
   "metadata": {},
   "outputs": [],
   "source": [
    "data = pd.read_csv('data.csv')\n",
    "X = data.iloc[:,1:-1].values\n",
    "y = data.iloc[:,-1].values\n"
   ]
  },
  {
   "cell_type": "code",
   "execution_count": 21,
   "id": "e8e34f2a",
   "metadata": {},
   "outputs": [],
   "source": [
    "model = Sequential([\n",
    "    Dense(units=2, input_shape=(4, ), activation='relu'),\n",
    "    #Dense(units=8,  activation='sigmoid'),\n",
    "    Dense(units=1, activation='sigmoid')\n",
    "])\n",
    "model.compile(optimizer=\"adam\", loss=\"binary_crossentropy\", metrics=[\"accuracy\"])"
   ]
  },
  {
   "cell_type": "code",
   "execution_count": null,
   "id": "5c288f29",
   "metadata": {},
   "outputs": [],
   "source": []
  },
  {
   "cell_type": "code",
   "execution_count": 22,
   "id": "11428e97",
   "metadata": {},
   "outputs": [
    {
     "name": "stdout",
     "output_type": "stream",
     "text": [
      "313/313 [==============================] - 1s 2ms/step - loss: 1.7234 - accuracy: 0.3655\n",
      "Global model loss : 1.7233890295028687 Global model accuracy : 0.36550000309944153\n",
      "Epoch 1/20\n",
      "313/313 [==============================] - 1s 2ms/step - loss: 0.7603 - accuracy: 0.6732\n",
      "Epoch 2/20\n",
      "313/313 [==============================] - 1s 2ms/step - loss: 0.4535 - accuracy: 0.9154\n",
      "Epoch 3/20\n",
      "313/313 [==============================] - 1s 2ms/step - loss: 0.3620 - accuracy: 0.9400\n",
      "Epoch 4/20\n",
      "313/313 [==============================] - 1s 2ms/step - loss: 0.3010 - accuracy: 0.9502\n",
      "Epoch 5/20\n",
      "313/313 [==============================] - 1s 2ms/step - loss: 0.2557 - accuracy: 0.9558\n",
      "Epoch 6/20\n",
      "313/313 [==============================] - 1s 2ms/step - loss: 0.2201 - accuracy: 0.9601\n",
      "Epoch 7/20\n",
      "313/313 [==============================] - 1s 2ms/step - loss: 0.1909 - accuracy: 0.9645\n",
      "Epoch 8/20\n",
      "313/313 [==============================] - 1s 2ms/step - loss: 0.1658 - accuracy: 0.9687\n",
      "Epoch 9/20\n",
      "313/313 [==============================] - 1s 2ms/step - loss: 0.1435 - accuracy: 0.9749\n",
      "Epoch 10/20\n",
      "313/313 [==============================] - 1s 2ms/step - loss: 0.1235 - accuracy: 0.9800\n",
      "Epoch 11/20\n",
      "313/313 [==============================] - 1s 2ms/step - loss: 0.1066 - accuracy: 0.9851\n",
      "Epoch 12/20\n",
      "313/313 [==============================] - 1s 2ms/step - loss: 0.0926 - accuracy: 0.9886\n",
      "Epoch 13/20\n",
      "313/313 [==============================] - 1s 2ms/step - loss: 0.0811 - accuracy: 0.9912\n",
      "Epoch 14/20\n",
      "313/313 [==============================] - 1s 2ms/step - loss: 0.0713 - accuracy: 0.9928\n",
      "Epoch 15/20\n",
      "313/313 [==============================] - 1s 2ms/step - loss: 0.0631 - accuracy: 0.9935\n",
      "Epoch 16/20\n",
      "313/313 [==============================] - 1s 2ms/step - loss: 0.0561 - accuracy: 0.9940\n",
      "Epoch 17/20\n",
      "313/313 [==============================] - 1s 2ms/step - loss: 0.0500 - accuracy: 0.9951\n",
      "Epoch 18/20\n",
      "313/313 [==============================] - 1s 2ms/step - loss: 0.0447 - accuracy: 0.9955\n",
      "Epoch 19/20\n",
      "313/313 [==============================] - 1s 2ms/step - loss: 0.0401 - accuracy: 0.9963\n",
      "Epoch 20/20\n",
      "313/313 [==============================] - 1s 2ms/step - loss: 0.0362 - accuracy: 0.9968\n",
      "313/313 [==============================] - 1s 2ms/step - loss: 0.0342 - accuracy: 0.9975\n",
      "Local model loss : 0.03424306958913803 Local model accuracy : 0.9975000023841858\n"
     ]
    }
   ],
   "source": [
    "#Printing golbal model accuracy\n",
    "score = model.evaluate(X, y, verbose=1)\n",
    "print(\"Global model loss : {} Global model accuracy : {}\".format(score[0], score[1]))\n",
    "model.fit(X, y, epochs=20, verbose=1)\n",
    "#Printing local model accuracy\n",
    "score = model.evaluate(X, y, verbose=1)\n",
    "print(\"Local model loss : {} Local model accuracy : {}\".format(score[0], score[1]))"
   ]
  },
  {
   "cell_type": "code",
   "execution_count": null,
   "id": "af1c53cd",
   "metadata": {},
   "outputs": [],
   "source": [
    "###########################################"
   ]
  },
  {
   "cell_type": "code",
   "execution_count": 9,
   "id": "61d77c92",
   "metadata": {},
   "outputs": [
    {
     "name": "stdout",
     "output_type": "stream",
     "text": [
      "3200\n"
     ]
    }
   ],
   "source": [
    "data = pd.read_csv('data.csv')\n",
    "rowCount = len(data)\n",
    "print(rowCount)"
   ]
  },
  {
   "cell_type": "code",
   "execution_count": 23,
   "id": "a8893589",
   "metadata": {},
   "outputs": [
    {
     "name": "stdout",
     "output_type": "stream",
     "text": [
      "{'accuracy': [867], 'loss': [345.67]}\n",
      "{'accuracy': [867, 867], 'loss': [345.67, 345.67]}\n"
     ]
    }
   ],
   "source": [
    "score = [345.67, 867]\n",
    "with open('metrics.txt','r+') as f:\n",
    "        trainMetrics = json.load(f)\n",
    "        print(trainMetrics)\n",
    "        trainMetrics['accuracy'].append(score[1])\n",
    "        trainMetrics['loss'].append(score[0]) \n",
    "        f.seek(0)\n",
    "        f.truncate()\n",
    "        f.write(json.dumps(trainMetrics))\n",
    "        print(trainMetrics)"
   ]
  },
  {
   "cell_type": "code",
   "execution_count": null,
   "id": "92960abe",
   "metadata": {},
   "outputs": [],
   "source": []
  },
  {
   "cell_type": "code",
   "execution_count": null,
   "id": "2f4b4faf",
   "metadata": {},
   "outputs": [],
   "source": []
  }
 ],
 "metadata": {
  "kernelspec": {
   "display_name": "Python 3",
   "language": "python",
   "name": "python3"
  },
  "language_info": {
   "codemirror_mode": {
    "name": "ipython",
    "version": 3
   },
   "file_extension": ".py",
   "mimetype": "text/x-python",
   "name": "python",
   "nbconvert_exporter": "python",
   "pygments_lexer": "ipython3",
   "version": "3.8.8"
  }
 },
 "nbformat": 4,
 "nbformat_minor": 5
}
